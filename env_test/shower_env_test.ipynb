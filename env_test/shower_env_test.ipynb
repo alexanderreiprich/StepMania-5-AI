{
 "cells": [
  {
   "cell_type": "code",
   "execution_count": 33,
   "metadata": {},
   "outputs": [
    {
     "name": "stdout",
     "output_type": "stream",
     "text": [
      "Requirement already satisfied: tensorflow in c:\\users\\alex\\appdata\\local\\programs\\python\\python39\\lib\\site-packages (2.11.0)\n",
      "Requirement already satisfied: tensorflow-intel==2.11.0 in c:\\users\\alex\\appdata\\local\\programs\\python\\python39\\lib\\site-packages (from tensorflow) (2.11.0)\n",
      "Requirement already satisfied: tensorboard<2.12,>=2.11 in c:\\users\\alex\\appdata\\local\\programs\\python\\python39\\lib\\site-packages (from tensorflow-intel==2.11.0->tensorflow) (2.11.2)\n",
      "Requirement already satisfied: google-pasta>=0.1.1 in c:\\users\\alex\\appdata\\local\\programs\\python\\python39\\lib\\site-packages (from tensorflow-intel==2.11.0->tensorflow) (0.2.0)\n",
      "Requirement already satisfied: keras<2.12,>=2.11.0 in c:\\users\\alex\\appdata\\local\\programs\\python\\python39\\lib\\site-packages (from tensorflow-intel==2.11.0->tensorflow) (2.11.0)\n",
      "Requirement already satisfied: termcolor>=1.1.0 in c:\\users\\alex\\appdata\\local\\programs\\python\\python39\\lib\\site-packages (from tensorflow-intel==2.11.0->tensorflow) (2.2.0)\n",
      "Requirement already satisfied: opt-einsum>=2.3.2 in c:\\users\\alex\\appdata\\local\\programs\\python\\python39\\lib\\site-packages (from tensorflow-intel==2.11.0->tensorflow) (3.3.0)\n",
      "Requirement already satisfied: protobuf<3.20,>=3.9.2 in c:\\users\\alex\\appdata\\local\\programs\\python\\python39\\lib\\site-packages (from tensorflow-intel==2.11.0->tensorflow) (3.19.6)\n",
      "Requirement already satisfied: numpy>=1.20 in c:\\users\\alex\\appdata\\local\\programs\\python\\python39\\lib\\site-packages (from tensorflow-intel==2.11.0->tensorflow) (1.21.2)\n",
      "Requirement already satisfied: absl-py>=1.0.0 in c:\\users\\alex\\appdata\\local\\programs\\python\\python39\\lib\\site-packages (from tensorflow-intel==2.11.0->tensorflow) (1.4.0)\n",
      "Requirement already satisfied: wrapt>=1.11.0 in c:\\users\\alex\\appdata\\local\\programs\\python\\python39\\lib\\site-packages (from tensorflow-intel==2.11.0->tensorflow) (1.14.1)\n",
      "Requirement already satisfied: grpcio<2.0,>=1.24.3 in c:\\users\\alex\\appdata\\local\\programs\\python\\python39\\lib\\site-packages (from tensorflow-intel==2.11.0->tensorflow) (1.51.1)\n",
      "Requirement already satisfied: astunparse>=1.6.0 in c:\\users\\alex\\appdata\\local\\programs\\python\\python39\\lib\\site-packages (from tensorflow-intel==2.11.0->tensorflow) (1.6.3)\n",
      "Requirement already satisfied: gast<=0.4.0,>=0.2.1 in c:\\users\\alex\\appdata\\local\\programs\\python\\python39\\lib\\site-packages (from tensorflow-intel==2.11.0->tensorflow) (0.4.0)\n",
      "Requirement already satisfied: libclang>=13.0.0 in c:\\users\\alex\\appdata\\local\\programs\\python\\python39\\lib\\site-packages (from tensorflow-intel==2.11.0->tensorflow) (15.0.6.1)\n",
      "Requirement already satisfied: typing-extensions>=3.6.6 in c:\\users\\alex\\appdata\\local\\programs\\python\\python39\\lib\\site-packages (from tensorflow-intel==2.11.0->tensorflow) (4.4.0)\n",
      "Requirement already satisfied: packaging in c:\\users\\alex\\appdata\\local\\programs\\python\\python39\\lib\\site-packages (from tensorflow-intel==2.11.0->tensorflow) (23.0)\n",
      "Requirement already satisfied: six>=1.12.0 in c:\\users\\alex\\appdata\\local\\programs\\python\\python39\\lib\\site-packages (from tensorflow-intel==2.11.0->tensorflow) (1.16.0)\n",
      "Requirement already satisfied: flatbuffers>=2.0 in c:\\users\\alex\\appdata\\local\\programs\\python\\python39\\lib\\site-packages (from tensorflow-intel==2.11.0->tensorflow) (23.1.21)\n",
      "Requirement already satisfied: tensorflow-estimator<2.12,>=2.11.0 in c:\\users\\alex\\appdata\\local\\programs\\python\\python39\\lib\\site-packages (from tensorflow-intel==2.11.0->tensorflow) (2.11.0)\n",
      "Requirement already satisfied: setuptools in c:\\users\\alex\\appdata\\local\\programs\\python\\python39\\lib\\site-packages (from tensorflow-intel==2.11.0->tensorflow) (57.4.0)\n",
      "Requirement already satisfied: h5py>=2.9.0 in c:\\users\\alex\\appdata\\local\\programs\\python\\python39\\lib\\site-packages (from tensorflow-intel==2.11.0->tensorflow) (3.8.0)\n",
      "Requirement already satisfied: tensorflow-io-gcs-filesystem>=0.23.1 in c:\\users\\alex\\appdata\\local\\programs\\python\\python39\\lib\\site-packages (from tensorflow-intel==2.11.0->tensorflow) (0.30.0)\n",
      "Requirement already satisfied: wheel<1.0,>=0.23.0 in c:\\users\\alex\\appdata\\local\\programs\\python\\python39\\lib\\site-packages (from astunparse>=1.6.0->tensorflow-intel==2.11.0->tensorflow) (0.38.4)\n",
      "Requirement already satisfied: werkzeug>=1.0.1 in c:\\users\\alex\\appdata\\local\\programs\\python\\python39\\lib\\site-packages (from tensorboard<2.12,>=2.11->tensorflow-intel==2.11.0->tensorflow) (2.2.2)\n",
      "Requirement already satisfied: requests<3,>=2.21.0 in c:\\users\\alex\\appdata\\local\\programs\\python\\python39\\lib\\site-packages (from tensorboard<2.12,>=2.11->tensorflow-intel==2.11.0->tensorflow) (2.27.1)\n",
      "Requirement already satisfied: google-auth-oauthlib<0.5,>=0.4.1 in c:\\users\\alex\\appdata\\local\\programs\\python\\python39\\lib\\site-packages (from tensorboard<2.12,>=2.11->tensorflow-intel==2.11.0->tensorflow) (0.4.6)\n",
      "Requirement already satisfied: google-auth<3,>=1.6.3 in c:\\users\\alex\\appdata\\local\\programs\\python\\python39\\lib\\site-packages (from tensorboard<2.12,>=2.11->tensorflow-intel==2.11.0->tensorflow) (2.16.0)\n",
      "Requirement already satisfied: markdown>=2.6.8 in c:\\users\\alex\\appdata\\local\\programs\\python\\python39\\lib\\site-packages (from tensorboard<2.12,>=2.11->tensorflow-intel==2.11.0->tensorflow) (3.4.1)\n",
      "Requirement already satisfied: tensorboard-plugin-wit>=1.6.0 in c:\\users\\alex\\appdata\\local\\programs\\python\\python39\\lib\\site-packages (from tensorboard<2.12,>=2.11->tensorflow-intel==2.11.0->tensorflow) (1.8.1)\n",
      "Requirement already satisfied: tensorboard-data-server<0.7.0,>=0.6.0 in c:\\users\\alex\\appdata\\local\\programs\\python\\python39\\lib\\site-packages (from tensorboard<2.12,>=2.11->tensorflow-intel==2.11.0->tensorflow) (0.6.1)\n",
      "Requirement already satisfied: cachetools<6.0,>=2.0.0 in c:\\users\\alex\\appdata\\local\\programs\\python\\python39\\lib\\site-packages (from google-auth<3,>=1.6.3->tensorboard<2.12,>=2.11->tensorflow-intel==2.11.0->tensorflow) (5.3.0)\n",
      "Requirement already satisfied: pyasn1-modules>=0.2.1 in c:\\users\\alex\\appdata\\local\\programs\\python\\python39\\lib\\site-packages (from google-auth<3,>=1.6.3->tensorboard<2.12,>=2.11->tensorflow-intel==2.11.0->tensorflow) (0.2.8)\n",
      "Requirement already satisfied: rsa<5,>=3.1.4 in c:\\users\\alex\\appdata\\local\\programs\\python\\python39\\lib\\site-packages (from google-auth<3,>=1.6.3->tensorboard<2.12,>=2.11->tensorflow-intel==2.11.0->tensorflow) (4.9)\n",
      "Requirement already satisfied: requests-oauthlib>=0.7.0 in c:\\users\\alex\\appdata\\local\\programs\\python\\python39\\lib\\site-packages (from google-auth-oauthlib<0.5,>=0.4.1->tensorboard<2.12,>=2.11->tensorflow-intel==2.11.0->tensorflow) (1.3.1)\n",
      "Requirement already satisfied: importlib-metadata>=4.4 in c:\\users\\alex\\appdata\\local\\programs\\python\\python39\\lib\\site-packages (from markdown>=2.6.8->tensorboard<2.12,>=2.11->tensorflow-intel==2.11.0->tensorflow) (6.0.0)\n",
      "Requirement already satisfied: charset-normalizer~=2.0.0 in c:\\users\\alex\\appdata\\local\\programs\\python\\python39\\lib\\site-packages (from requests<3,>=2.21.0->tensorboard<2.12,>=2.11->tensorflow-intel==2.11.0->tensorflow) (2.0.12)\n",
      "Requirement already satisfied: idna<4,>=2.5 in c:\\users\\alex\\appdata\\local\\programs\\python\\python39\\lib\\site-packages (from requests<3,>=2.21.0->tensorboard<2.12,>=2.11->tensorflow-intel==2.11.0->tensorflow) (3.3)\n",
      "Requirement already satisfied: certifi>=2017.4.17 in c:\\users\\alex\\appdata\\local\\programs\\python\\python39\\lib\\site-packages (from requests<3,>=2.21.0->tensorboard<2.12,>=2.11->tensorflow-intel==2.11.0->tensorflow) (2021.10.8)\n",
      "Requirement already satisfied: urllib3<1.27,>=1.21.1 in c:\\users\\alex\\appdata\\local\\programs\\python\\python39\\lib\\site-packages (from requests<3,>=2.21.0->tensorboard<2.12,>=2.11->tensorflow-intel==2.11.0->tensorflow) (1.26.9)\n",
      "Requirement already satisfied: MarkupSafe>=2.1.1 in c:\\users\\alex\\appdata\\local\\programs\\python\\python39\\lib\\site-packages (from werkzeug>=1.0.1->tensorboard<2.12,>=2.11->tensorflow-intel==2.11.0->tensorflow) (2.1.2)\n",
      "Requirement already satisfied: zipp>=0.5 in c:\\users\\alex\\appdata\\local\\programs\\python\\python39\\lib\\site-packages (from importlib-metadata>=4.4->markdown>=2.6.8->tensorboard<2.12,>=2.11->tensorflow-intel==2.11.0->tensorflow) (3.11.0)\n",
      "Requirement already satisfied: pyasn1<0.5.0,>=0.4.6 in c:\\users\\alex\\appdata\\local\\programs\\python\\python39\\lib\\site-packages (from pyasn1-modules>=0.2.1->google-auth<3,>=1.6.3->tensorboard<2.12,>=2.11->tensorflow-intel==2.11.0->tensorflow) (0.4.8)\n",
      "Requirement already satisfied: oauthlib>=3.0.0 in c:\\users\\alex\\appdata\\local\\programs\\python\\python39\\lib\\site-packages (from requests-oauthlib>=0.7.0->google-auth-oauthlib<0.5,>=0.4.1->tensorboard<2.12,>=2.11->tensorflow-intel==2.11.0->tensorflow) (3.2.2)\n",
      "Note: you may need to restart the kernel to use updated packages.\n",
      "Requirement already satisfied: gym in c:\\users\\alex\\appdata\\local\\programs\\python\\python39\\lib\\site-packages (0.26.2)\n",
      "Requirement already satisfied: gym-notices>=0.0.4 in c:\\users\\alex\\appdata\\local\\programs\\python\\python39\\lib\\site-packages (from gym) (0.0.8)\n",
      "Requirement already satisfied: cloudpickle>=1.2.0 in c:\\users\\alex\\appdata\\local\\programs\\python\\python39\\lib\\site-packages (from gym) (2.2.1)\n",
      "Requirement already satisfied: importlib-metadata>=4.8.0 in c:\\users\\alex\\appdata\\local\\programs\\python\\python39\\lib\\site-packages (from gym) (6.0.0)\n",
      "Requirement already satisfied: numpy>=1.18.0 in c:\\users\\alex\\appdata\\local\\programs\\python\\python39\\lib\\site-packages (from gym) (1.21.2)\n",
      "Requirement already satisfied: zipp>=0.5 in c:\\users\\alex\\appdata\\local\\programs\\python\\python39\\lib\\site-packages (from importlib-metadata>=4.8.0->gym) (3.11.0)\n",
      "Note: you may need to restart the kernel to use updated packages.\n",
      "Requirement already satisfied: keras in c:\\users\\alex\\appdata\\local\\programs\\python\\python39\\lib\\site-packages (2.11.0)\n",
      "Note: you may need to restart the kernel to use updated packages.\n",
      "Collecting keras-rl2\n",
      "  Downloading keras_rl2-1.0.5-py3-none-any.whl (52 kB)\n",
      "     ---------------------------------------- 0.0/52.1 kB ? eta -:--:--\n",
      "     ------- -------------------------------- 10.2/52.1 kB ? eta -:--:--\n",
      "     ------- -------------------------------- 10.2/52.1 kB ? eta -:--:--\n",
      "     ------- -------------------------------- 10.2/52.1 kB ? eta -:--:--\n",
      "     ------- -------------------------------- 10.2/52.1 kB ? eta -:--:--\n",
      "     ------- -------------------------------- 10.2/52.1 kB ? eta -:--:--\n",
      "     --------------- ----------------------- 20.5/52.1 kB 41.0 kB/s eta 0:00:01\n",
      "     --------------- ----------------------- 20.5/52.1 kB 41.0 kB/s eta 0:00:01\n",
      "     --------------- ----------------------- 20.5/52.1 kB 41.0 kB/s eta 0:00:01\n",
      "     --------------- ----------------------- 20.5/52.1 kB 41.0 kB/s eta 0:00:01\n",
      "     --------------- ----------------------- 20.5/52.1 kB 41.0 kB/s eta 0:00:01\n",
      "     ---------------------- ---------------- 30.7/52.1 kB 41.0 kB/s eta 0:00:01\n",
      "     ---------------------- ---------------- 30.7/52.1 kB 41.0 kB/s eta 0:00:01\n",
      "     ---------------------- ---------------- 30.7/52.1 kB 41.0 kB/s eta 0:00:01\n",
      "     ---------------------- ---------------- 30.7/52.1 kB 41.0 kB/s eta 0:00:01\n",
      "     ------------------------------ -------- 41.0/52.1 kB 45.7 kB/s eta 0:00:01\n",
      "     ------------------------------ -------- 41.0/52.1 kB 45.7 kB/s eta 0:00:01\n",
      "     ------------------------------ -------- 41.0/52.1 kB 45.7 kB/s eta 0:00:01\n",
      "     ------------------------------ -------- 41.0/52.1 kB 45.7 kB/s eta 0:00:01\n",
      "     --------------------------------------  51.2/52.1 kB 48.6 kB/s eta 0:00:01\n",
      "     --------------------------------------  51.2/52.1 kB 48.6 kB/s eta 0:00:01\n",
      "     --------------------------------------  51.2/52.1 kB 48.6 kB/s eta 0:00:01\n",
      "     --------------------------------------  51.2/52.1 kB 48.6 kB/s eta 0:00:01\n",
      "     --------------------------------------  51.2/52.1 kB 48.6 kB/s eta 0:00:01\n",
      "     --------------------------------------  51.2/52.1 kB 48.6 kB/s eta 0:00:01\n",
      "     --------------------------------------  51.2/52.1 kB 48.6 kB/s eta 0:00:01\n",
      "     --------------------------------------  51.2/52.1 kB 48.6 kB/s eta 0:00:01\n",
      "     --------------------------------------  51.2/52.1 kB 48.6 kB/s eta 0:00:01\n",
      "     --------------------------------------  51.2/52.1 kB 48.6 kB/s eta 0:00:01\n",
      "     --------------------------------------  51.2/52.1 kB 48.6 kB/s eta 0:00:01\n",
      "     --------------------------------------  51.2/52.1 kB 48.6 kB/s eta 0:00:01\n",
      "     --------------------------------------  51.2/52.1 kB 48.6 kB/s eta 0:00:01\n",
      "     --------------------------------------  51.2/52.1 kB 48.6 kB/s eta 0:00:01\n",
      "     --------------------------------------  51.2/52.1 kB 48.6 kB/s eta 0:00:01\n",
      "     --------------------------------------  51.2/52.1 kB 48.6 kB/s eta 0:00:01\n",
      "     --------------------------------------  51.2/52.1 kB 48.6 kB/s eta 0:00:01\n",
      "     --------------------------------------  51.2/52.1 kB 48.6 kB/s eta 0:00:01\n",
      "     --------------------------------------  51.2/52.1 kB 48.6 kB/s eta 0:00:01\n",
      "     --------------------------------------  51.2/52.1 kB 48.6 kB/s eta 0:00:01\n",
      "     --------------------------------------  51.2/52.1 kB 48.6 kB/s eta 0:00:01\n",
      "     --------------------------------------  51.2/52.1 kB 48.6 kB/s eta 0:00:01\n",
      "     --------------------------------------  51.2/52.1 kB 48.6 kB/s eta 0:00:01\n",
      "     --------------------------------------  51.2/52.1 kB 48.6 kB/s eta 0:00:01\n",
      "     --------------------------------------  51.2/52.1 kB 48.6 kB/s eta 0:00:01\n",
      "     --------------------------------------  51.2/52.1 kB 48.6 kB/s eta 0:00:01\n",
      "     --------------------------------------  51.2/52.1 kB 48.6 kB/s eta 0:00:01\n",
      "     --------------------------------------  51.2/52.1 kB 48.6 kB/s eta 0:00:01\n",
      "     --------------------------------------  51.2/52.1 kB 48.6 kB/s eta 0:00:01\n",
      "     --------------------------------------  51.2/52.1 kB 48.6 kB/s eta 0:00:01\n",
      "     --------------------------------------  51.2/52.1 kB 48.6 kB/s eta 0:00:01\n",
      "     --------------------------------------  51.2/52.1 kB 48.6 kB/s eta 0:00:01\n",
      "     --------------------------------------  51.2/52.1 kB 48.6 kB/s eta 0:00:01\n",
      "     --------------------------------------  51.2/52.1 kB 48.6 kB/s eta 0:00:01\n",
      "     --------------------------------------  51.2/52.1 kB 48.6 kB/s eta 0:00:01\n",
      "     --------------------------------------  51.2/52.1 kB 48.6 kB/s eta 0:00:01\n",
      "     --------------------------------------  51.2/52.1 kB 48.6 kB/s eta 0:00:01\n",
      "     --------------------------------------  51.2/52.1 kB 48.6 kB/s eta 0:00:01\n",
      "     --------------------------------------  51.2/52.1 kB 48.6 kB/s eta 0:00:01\n",
      "     --------------------------------------  51.2/52.1 kB 48.6 kB/s eta 0:00:01\n",
      "     --------------------------------------  51.2/52.1 kB 48.6 kB/s eta 0:00:01\n",
      "     --------------------------------------  51.2/52.1 kB 48.6 kB/s eta 0:00:01\n",
      "     --------------------------------------  51.2/52.1 kB 48.6 kB/s eta 0:00:01\n",
      "     --------------------------------------  51.2/52.1 kB 48.6 kB/s eta 0:00:01\n",
      "     --------------------------------------  51.2/52.1 kB 48.6 kB/s eta 0:00:01\n",
      "     --------------------------------------  51.2/52.1 kB 48.6 kB/s eta 0:00:01\n",
      "     --------------------------------------  51.2/52.1 kB 48.6 kB/s eta 0:00:01\n",
      "     --------------------------------------  51.2/52.1 kB 48.6 kB/s eta 0:00:01\n",
      "     --------------------------------------  51.2/52.1 kB 48.6 kB/s eta 0:00:01\n",
      "     --------------------------------------  51.2/52.1 kB 48.6 kB/s eta 0:00:01\n",
      "     --------------------------------------  51.2/52.1 kB 48.6 kB/s eta 0:00:01\n",
      "     --------------------------------------  51.2/52.1 kB 48.6 kB/s eta 0:00:01\n",
      "     --------------------------------------  51.2/52.1 kB 48.6 kB/s eta 0:00:01\n",
      "     --------------------------------------  51.2/52.1 kB 48.6 kB/s eta 0:00:01\n",
      "     --------------------------------------  51.2/52.1 kB 48.6 kB/s eta 0:00:01\n",
      "     --------------------------------------  51.2/52.1 kB 48.6 kB/s eta 0:00:01\n",
      "     --------------------------------------  51.2/52.1 kB 48.6 kB/s eta 0:00:01\n",
      "     --------------------------------------  51.2/52.1 kB 48.6 kB/s eta 0:00:01\n",
      "     --------------------------------------  51.2/52.1 kB 48.6 kB/s eta 0:00:01\n",
      "     --------------------------------------  51.2/52.1 kB 48.6 kB/s eta 0:00:01\n",
      "     --------------------------------------  51.2/52.1 kB 48.6 kB/s eta 0:00:01\n",
      "     --------------------------------------  51.2/52.1 kB 48.6 kB/s eta 0:00:01\n",
      "     --------------------------------------  51.2/52.1 kB 48.6 kB/s eta 0:00:01\n",
      "     --------------------------------------  51.2/52.1 kB 48.6 kB/s eta 0:00:01\n",
      "     --------------------------------------  51.2/52.1 kB 48.6 kB/s eta 0:00:01\n",
      "     --------------------------------------  51.2/52.1 kB 48.6 kB/s eta 0:00:01\n",
      "     --------------------------------------- 52.1/52.1 kB 10.7 kB/s eta 0:00:00\n",
      "Requirement already satisfied: tensorflow in c:\\users\\alex\\appdata\\local\\programs\\python\\python39\\lib\\site-packages (from keras-rl2) (2.11.0)\n",
      "Requirement already satisfied: tensorflow-intel==2.11.0 in c:\\users\\alex\\appdata\\local\\programs\\python\\python39\\lib\\site-packages (from tensorflow->keras-rl2) (2.11.0)\n",
      "Requirement already satisfied: gast<=0.4.0,>=0.2.1 in c:\\users\\alex\\appdata\\local\\programs\\python\\python39\\lib\\site-packages (from tensorflow-intel==2.11.0->tensorflow->keras-rl2) (0.4.0)\n",
      "Requirement already satisfied: google-pasta>=0.1.1 in c:\\users\\alex\\appdata\\local\\programs\\python\\python39\\lib\\site-packages (from tensorflow-intel==2.11.0->tensorflow->keras-rl2) (0.2.0)\n",
      "Requirement already satisfied: opt-einsum>=2.3.2 in c:\\users\\alex\\appdata\\local\\programs\\python\\python39\\lib\\site-packages (from tensorflow-intel==2.11.0->tensorflow->keras-rl2) (3.3.0)\n",
      "Requirement already satisfied: wrapt>=1.11.0 in c:\\users\\alex\\appdata\\local\\programs\\python\\python39\\lib\\site-packages (from tensorflow-intel==2.11.0->tensorflow->keras-rl2) (1.14.1)\n",
      "Requirement already satisfied: packaging in c:\\users\\alex\\appdata\\local\\programs\\python\\python39\\lib\\site-packages (from tensorflow-intel==2.11.0->tensorflow->keras-rl2) (23.0)\n",
      "Requirement already satisfied: setuptools in c:\\users\\alex\\appdata\\local\\programs\\python\\python39\\lib\\site-packages (from tensorflow-intel==2.11.0->tensorflow->keras-rl2) (57.4.0)\n",
      "Requirement already satisfied: typing-extensions>=3.6.6 in c:\\users\\alex\\appdata\\local\\programs\\python\\python39\\lib\\site-packages (from tensorflow-intel==2.11.0->tensorflow->keras-rl2) (4.4.0)\n",
      "Requirement already satisfied: tensorflow-estimator<2.12,>=2.11.0 in c:\\users\\alex\\appdata\\local\\programs\\python\\python39\\lib\\site-packages (from tensorflow-intel==2.11.0->tensorflow->keras-rl2) (2.11.0)\n",
      "Requirement already satisfied: tensorflow-io-gcs-filesystem>=0.23.1 in c:\\users\\alex\\appdata\\local\\programs\\python\\python39\\lib\\site-packages (from tensorflow-intel==2.11.0->tensorflow->keras-rl2) (0.30.0)\n",
      "Requirement already satisfied: flatbuffers>=2.0 in c:\\users\\alex\\appdata\\local\\programs\\python\\python39\\lib\\site-packages (from tensorflow-intel==2.11.0->tensorflow->keras-rl2) (23.1.21)\n",
      "Requirement already satisfied: h5py>=2.9.0 in c:\\users\\alex\\appdata\\local\\programs\\python\\python39\\lib\\site-packages (from tensorflow-intel==2.11.0->tensorflow->keras-rl2) (3.8.0)\n",
      "Requirement already satisfied: libclang>=13.0.0 in c:\\users\\alex\\appdata\\local\\programs\\python\\python39\\lib\\site-packages (from tensorflow-intel==2.11.0->tensorflow->keras-rl2) (15.0.6.1)\n",
      "Requirement already satisfied: keras<2.12,>=2.11.0 in c:\\users\\alex\\appdata\\local\\programs\\python\\python39\\lib\\site-packages (from tensorflow-intel==2.11.0->tensorflow->keras-rl2) (2.11.0)\n",
      "Requirement already satisfied: termcolor>=1.1.0 in c:\\users\\alex\\appdata\\local\\programs\\python\\python39\\lib\\site-packages (from tensorflow-intel==2.11.0->tensorflow->keras-rl2) (2.2.0)\n",
      "Requirement already satisfied: numpy>=1.20 in c:\\users\\alex\\appdata\\local\\programs\\python\\python39\\lib\\site-packages (from tensorflow-intel==2.11.0->tensorflow->keras-rl2) (1.21.2)\n",
      "Requirement already satisfied: tensorboard<2.12,>=2.11 in c:\\users\\alex\\appdata\\local\\programs\\python\\python39\\lib\\site-packages (from tensorflow-intel==2.11.0->tensorflow->keras-rl2) (2.11.2)\n",
      "Requirement already satisfied: grpcio<2.0,>=1.24.3 in c:\\users\\alex\\appdata\\local\\programs\\python\\python39\\lib\\site-packages (from tensorflow-intel==2.11.0->tensorflow->keras-rl2) (1.51.1)\n",
      "Requirement already satisfied: absl-py>=1.0.0 in c:\\users\\alex\\appdata\\local\\programs\\python\\python39\\lib\\site-packages (from tensorflow-intel==2.11.0->tensorflow->keras-rl2) (1.4.0)\n",
      "Requirement already satisfied: protobuf<3.20,>=3.9.2 in c:\\users\\alex\\appdata\\local\\programs\\python\\python39\\lib\\site-packages (from tensorflow-intel==2.11.0->tensorflow->keras-rl2) (3.19.6)\n",
      "Requirement already satisfied: astunparse>=1.6.0 in c:\\users\\alex\\appdata\\local\\programs\\python\\python39\\lib\\site-packages (from tensorflow-intel==2.11.0->tensorflow->keras-rl2) (1.6.3)\n",
      "Requirement already satisfied: six>=1.12.0 in c:\\users\\alex\\appdata\\local\\programs\\python\\python39\\lib\\site-packages (from tensorflow-intel==2.11.0->tensorflow->keras-rl2) (1.16.0)\n",
      "Requirement already satisfied: wheel<1.0,>=0.23.0 in c:\\users\\alex\\appdata\\local\\programs\\python\\python39\\lib\\site-packages (from astunparse>=1.6.0->tensorflow-intel==2.11.0->tensorflow->keras-rl2) (0.38.4)\n",
      "Requirement already satisfied: markdown>=2.6.8 in c:\\users\\alex\\appdata\\local\\programs\\python\\python39\\lib\\site-packages (from tensorboard<2.12,>=2.11->tensorflow-intel==2.11.0->tensorflow->keras-rl2) (3.4.1)\n",
      "Requirement already satisfied: requests<3,>=2.21.0 in c:\\users\\alex\\appdata\\local\\programs\\python\\python39\\lib\\site-packages (from tensorboard<2.12,>=2.11->tensorflow-intel==2.11.0->tensorflow->keras-rl2) (2.27.1)\n",
      "Requirement already satisfied: google-auth<3,>=1.6.3 in c:\\users\\alex\\appdata\\local\\programs\\python\\python39\\lib\\site-packages (from tensorboard<2.12,>=2.11->tensorflow-intel==2.11.0->tensorflow->keras-rl2) (2.16.0)\n",
      "Requirement already satisfied: werkzeug>=1.0.1 in c:\\users\\alex\\appdata\\local\\programs\\python\\python39\\lib\\site-packages (from tensorboard<2.12,>=2.11->tensorflow-intel==2.11.0->tensorflow->keras-rl2) (2.2.2)\n",
      "Requirement already satisfied: tensorboard-plugin-wit>=1.6.0 in c:\\users\\alex\\appdata\\local\\programs\\python\\python39\\lib\\site-packages (from tensorboard<2.12,>=2.11->tensorflow-intel==2.11.0->tensorflow->keras-rl2) (1.8.1)\n",
      "Requirement already satisfied: tensorboard-data-server<0.7.0,>=0.6.0 in c:\\users\\alex\\appdata\\local\\programs\\python\\python39\\lib\\site-packages (from tensorboard<2.12,>=2.11->tensorflow-intel==2.11.0->tensorflow->keras-rl2) (0.6.1)\n",
      "Requirement already satisfied: google-auth-oauthlib<0.5,>=0.4.1 in c:\\users\\alex\\appdata\\local\\programs\\python\\python39\\lib\\site-packages (from tensorboard<2.12,>=2.11->tensorflow-intel==2.11.0->tensorflow->keras-rl2) (0.4.6)\n",
      "Requirement already satisfied: pyasn1-modules>=0.2.1 in c:\\users\\alex\\appdata\\local\\programs\\python\\python39\\lib\\site-packages (from google-auth<3,>=1.6.3->tensorboard<2.12,>=2.11->tensorflow-intel==2.11.0->tensorflow->keras-rl2) (0.2.8)\n",
      "Requirement already satisfied: cachetools<6.0,>=2.0.0 in c:\\users\\alex\\appdata\\local\\programs\\python\\python39\\lib\\site-packages (from google-auth<3,>=1.6.3->tensorboard<2.12,>=2.11->tensorflow-intel==2.11.0->tensorflow->keras-rl2) (5.3.0)\n",
      "Requirement already satisfied: rsa<5,>=3.1.4 in c:\\users\\alex\\appdata\\local\\programs\\python\\python39\\lib\\site-packages (from google-auth<3,>=1.6.3->tensorboard<2.12,>=2.11->tensorflow-intel==2.11.0->tensorflow->keras-rl2) (4.9)\n",
      "Requirement already satisfied: requests-oauthlib>=0.7.0 in c:\\users\\alex\\appdata\\local\\programs\\python\\python39\\lib\\site-packages (from google-auth-oauthlib<0.5,>=0.4.1->tensorboard<2.12,>=2.11->tensorflow-intel==2.11.0->tensorflow->keras-rl2) (1.3.1)\n",
      "Requirement already satisfied: importlib-metadata>=4.4 in c:\\users\\alex\\appdata\\local\\programs\\python\\python39\\lib\\site-packages (from markdown>=2.6.8->tensorboard<2.12,>=2.11->tensorflow-intel==2.11.0->tensorflow->keras-rl2) (6.0.0)\n",
      "Requirement already satisfied: idna<4,>=2.5 in c:\\users\\alex\\appdata\\local\\programs\\python\\python39\\lib\\site-packages (from requests<3,>=2.21.0->tensorboard<2.12,>=2.11->tensorflow-intel==2.11.0->tensorflow->keras-rl2) (3.3)\n",
      "Requirement already satisfied: charset-normalizer~=2.0.0 in c:\\users\\alex\\appdata\\local\\programs\\python\\python39\\lib\\site-packages (from requests<3,>=2.21.0->tensorboard<2.12,>=2.11->tensorflow-intel==2.11.0->tensorflow->keras-rl2) (2.0.12)\n",
      "Requirement already satisfied: certifi>=2017.4.17 in c:\\users\\alex\\appdata\\local\\programs\\python\\python39\\lib\\site-packages (from requests<3,>=2.21.0->tensorboard<2.12,>=2.11->tensorflow-intel==2.11.0->tensorflow->keras-rl2) (2021.10.8)\n",
      "Requirement already satisfied: urllib3<1.27,>=1.21.1 in c:\\users\\alex\\appdata\\local\\programs\\python\\python39\\lib\\site-packages (from requests<3,>=2.21.0->tensorboard<2.12,>=2.11->tensorflow-intel==2.11.0->tensorflow->keras-rl2) (1.26.9)\n",
      "Requirement already satisfied: MarkupSafe>=2.1.1 in c:\\users\\alex\\appdata\\local\\programs\\python\\python39\\lib\\site-packages (from werkzeug>=1.0.1->tensorboard<2.12,>=2.11->tensorflow-intel==2.11.0->tensorflow->keras-rl2) (2.1.2)\n",
      "Requirement already satisfied: zipp>=0.5 in c:\\users\\alex\\appdata\\local\\programs\\python\\python39\\lib\\site-packages (from importlib-metadata>=4.4->markdown>=2.6.8->tensorboard<2.12,>=2.11->tensorflow-intel==2.11.0->tensorflow->keras-rl2) (3.11.0)\n",
      "Requirement already satisfied: pyasn1<0.5.0,>=0.4.6 in c:\\users\\alex\\appdata\\local\\programs\\python\\python39\\lib\\site-packages (from pyasn1-modules>=0.2.1->google-auth<3,>=1.6.3->tensorboard<2.12,>=2.11->tensorflow-intel==2.11.0->tensorflow->keras-rl2) (0.4.8)\n",
      "Requirement already satisfied: oauthlib>=3.0.0 in c:\\users\\alex\\appdata\\local\\programs\\python\\python39\\lib\\site-packages (from requests-oauthlib>=0.7.0->google-auth-oauthlib<0.5,>=0.4.1->tensorboard<2.12,>=2.11->tensorflow-intel==2.11.0->tensorflow->keras-rl2) (3.2.2)\n",
      "Installing collected packages: keras-rl2\n",
      "Successfully installed keras-rl2-1.0.5\n",
      "Note: you may need to restart the kernel to use updated packages.\n"
     ]
    }
   ],
   "source": [
    "%pip install tensorflow\n",
    "%pip install gym\n",
    "%pip install keras\n",
    "%pip install keras-rl2"
   ]
  },
  {
   "cell_type": "code",
   "execution_count": 4,
   "metadata": {},
   "outputs": [],
   "source": [
    "from gym import Env\n",
    "from gym.spaces import Discrete, Box\n",
    "import numpy as np \n",
    "import random"
   ]
  },
  {
   "cell_type": "code",
   "execution_count": 23,
   "metadata": {},
   "outputs": [],
   "source": [
    "class ShowerEnv(Env):\n",
    "  def __init__(self):\n",
    "    # Actions that can be taken - down, stay, up\n",
    "    self.action_space = Discrete(3)\n",
    "    # Temperature array\n",
    "    self.observation_space = Box(low=np.array([0]), high=np.array([100]))\n",
    "    # Set start temp\n",
    "    self.state = 38 + random.randint(-3, 3)\n",
    "    # Set shower length\n",
    "    self.shower_length = 60\n",
    "\n",
    "  def step(self, action):\n",
    "    # Apply action\n",
    "    self.state += action -1\n",
    "    # Reduce shower length by 1 second \n",
    "    self.shower_length -= 1\n",
    "\n",
    "    # Calc reward\n",
    "    if self.state >= 37 and self.state <= 39:\n",
    "      reward = 1\n",
    "    else:\n",
    "      reward = -1\n",
    "\n",
    "    # Check if shower is done\n",
    "    if self.shower_length <= 0:\n",
    "      done = True\n",
    "    else:\n",
    "      done = False\n",
    "\n",
    "    # Apply noise\n",
    "    self.state += random.randint(-1,1)\n",
    "    # Info placeholder\n",
    "    info = {}\n",
    "    # Return step information\n",
    "    return self.state, reward, done, info\n",
    "\n",
    "  def render(self):\n",
    "    pass\n",
    "\n",
    "  def reset(self):\n",
    "    # Reset temp\n",
    "    self.state = 38 + random.randint(-3, 3)\n",
    "    # Reset length\n",
    "    self.shower_length = 60\n",
    "    return self.state"
   ]
  },
  {
   "cell_type": "code",
   "execution_count": 25,
   "metadata": {},
   "outputs": [
    {
     "name": "stderr",
     "output_type": "stream",
     "text": [
      "c:\\Users\\Alex\\AppData\\Local\\Programs\\Python\\Python39\\lib\\site-packages\\gym\\spaces\\box.py:127: UserWarning: \u001b[33mWARN: Box bound precision lowered by casting to float32\u001b[0m\n",
      "  logger.warn(f\"Box bound precision lowered by casting to {self.dtype}\")\n"
     ]
    }
   ],
   "source": [
    "env = ShowerEnv()"
   ]
  },
  {
   "cell_type": "code",
   "execution_count": 18,
   "metadata": {},
   "outputs": [
    {
     "data": {
      "text/plain": [
       "array([11.764443], dtype=float32)"
      ]
     },
     "execution_count": 18,
     "metadata": {},
     "output_type": "execute_result"
    }
   ],
   "source": [
    "env.observation_space.sample()"
   ]
  },
  {
   "cell_type": "code",
   "execution_count": 26,
   "metadata": {},
   "outputs": [
    {
     "name": "stdout",
     "output_type": "stream",
     "text": [
      "Episode:1 Score: -40\n",
      "Episode:2 Score: -26\n",
      "Episode:3 Score: -16\n",
      "Episode:4 Score: -56\n",
      "Episode:5 Score: -52\n",
      "Episode:6 Score: -60\n",
      "Episode:7 Score: -50\n",
      "Episode:8 Score: -16\n",
      "Episode:9 Score: -56\n",
      "Episode:10 Score: -34\n"
     ]
    }
   ],
   "source": [
    "episodes = 10\n",
    "for episode in range(1, episodes +1):\n",
    "  state = env.reset()\n",
    "  done = False\n",
    "  score = 0\n",
    "\n",
    "  while not done:\n",
    "    #env.render()\n",
    "    action = env.action_space.sample()\n",
    "    n_state, reward, done, info = env.step(action)\n",
    "    score += reward\n",
    "  print(\"Episode:{} Score: {}\".format(episode, score))"
   ]
  },
  {
   "cell_type": "code",
   "execution_count": 27,
   "metadata": {},
   "outputs": [],
   "source": [
    "import numpy as np\n",
    "from tensorflow.keras.models import Sequential\n",
    "from tensorflow.keras.layers import Dense, Flatten\n",
    "from tensorflow.keras.optimizers import Adam"
   ]
  },
  {
   "cell_type": "code",
   "execution_count": 28,
   "metadata": {},
   "outputs": [],
   "source": [
    "states = env.observation_space.shape\n",
    "actions = env.action_space.n"
   ]
  },
  {
   "cell_type": "code",
   "execution_count": 29,
   "metadata": {},
   "outputs": [],
   "source": [
    "def build_model(states, actions):\n",
    "  model = Sequential()\n",
    "  model.add(Dense(24, activation='relu', input_shape=states))\n",
    "  model.add(Dense(24, activation='relu'))\n",
    "  model.add(Dense(actions, activation='linear'))\n",
    "  return model"
   ]
  },
  {
   "cell_type": "code",
   "execution_count": 37,
   "metadata": {},
   "outputs": [],
   "source": [
    "del model"
   ]
  },
  {
   "cell_type": "code",
   "execution_count": 38,
   "metadata": {},
   "outputs": [],
   "source": [
    "model = build_model(states, actions)"
   ]
  },
  {
   "cell_type": "code",
   "execution_count": 31,
   "metadata": {},
   "outputs": [
    {
     "name": "stdout",
     "output_type": "stream",
     "text": [
      "Model: \"sequential\"\n",
      "_________________________________________________________________\n",
      " Layer (type)                Output Shape              Param #   \n",
      "=================================================================\n",
      " dense (Dense)               (None, 24)                48        \n",
      "                                                                 \n",
      " dense_1 (Dense)             (None, 24)                600       \n",
      "                                                                 \n",
      " dense_2 (Dense)             (None, 3)                 75        \n",
      "                                                                 \n",
      "=================================================================\n",
      "Total params: 723\n",
      "Trainable params: 723\n",
      "Non-trainable params: 0\n",
      "_________________________________________________________________\n"
     ]
    }
   ],
   "source": [
    "model.summary()"
   ]
  },
  {
   "cell_type": "code",
   "execution_count": 39,
   "metadata": {},
   "outputs": [],
   "source": [
    "from rl.agents import DQNAgent\n",
    "from rl.policy import BoltzmannQPolicy\n",
    "from rl.memory import SequentialMemory"
   ]
  },
  {
   "cell_type": "code",
   "execution_count": 40,
   "metadata": {},
   "outputs": [],
   "source": [
    "def build_agent(model, actions):\n",
    "  policy = BoltzmannQPolicy()\n",
    "  memory = SequentialMemory(limit=50000, window_length=1)\n",
    "  dqn = DQNAgent(model=model, memory=memory, policy=policy, nb_actions=actions, nb_steps_warmup=10, target_model_update=1e-2)\n",
    "  return dqn"
   ]
  },
  {
   "cell_type": "code",
   "execution_count": 41,
   "metadata": {},
   "outputs": [
    {
     "name": "stderr",
     "output_type": "stream",
     "text": [
      "WARNING:absl:`lr` is deprecated, please use `learning_rate` instead, or use the legacy optimizer, e.g.,tf.keras.optimizers.legacy.Adam.\n"
     ]
    },
    {
     "ename": "AttributeError",
     "evalue": "'Adam' object has no attribute '_name'",
     "output_type": "error",
     "traceback": [
      "\u001b[1;31m---------------------------------------------------------------------------\u001b[0m",
      "\u001b[1;31mAttributeError\u001b[0m                            Traceback (most recent call last)",
      "Cell \u001b[1;32mIn[41], line 2\u001b[0m\n\u001b[0;32m      1\u001b[0m dqn \u001b[39m=\u001b[39m build_agent(model, actions)\n\u001b[1;32m----> 2\u001b[0m dqn\u001b[39m.\u001b[39;49mcompile(Adam(lr\u001b[39m=\u001b[39;49m\u001b[39m1e-3\u001b[39;49m), metrics\u001b[39m=\u001b[39;49m[\u001b[39m'\u001b[39;49m\u001b[39mmae\u001b[39;49m\u001b[39m'\u001b[39;49m])\n\u001b[0;32m      3\u001b[0m dqn\u001b[39m.\u001b[39mfit(env, nb_steps\u001b[39m=\u001b[39m\u001b[39m50000\u001b[39m, visualize\u001b[39m=\u001b[39m\u001b[39mFalse\u001b[39;00m, verbose\u001b[39m=\u001b[39m\u001b[39m1\u001b[39m)\n",
      "File \u001b[1;32mc:\\Users\\Alex\\AppData\\Local\\Programs\\Python\\Python39\\lib\\site-packages\\rl\\agents\\dqn.py:175\u001b[0m, in \u001b[0;36mDQNAgent.compile\u001b[1;34m(self, optimizer, metrics)\u001b[0m\n\u001b[0;32m    172\u001b[0m \u001b[39mif\u001b[39;00m \u001b[39mself\u001b[39m\u001b[39m.\u001b[39mtarget_model_update \u001b[39m<\u001b[39m \u001b[39m1.\u001b[39m:\n\u001b[0;32m    173\u001b[0m     \u001b[39m# We use the `AdditionalUpdatesOptimizer` to efficiently soft-update the target model.\u001b[39;00m\n\u001b[0;32m    174\u001b[0m     updates \u001b[39m=\u001b[39m get_soft_target_model_updates(\u001b[39mself\u001b[39m\u001b[39m.\u001b[39mtarget_model, \u001b[39mself\u001b[39m\u001b[39m.\u001b[39mmodel, \u001b[39mself\u001b[39m\u001b[39m.\u001b[39mtarget_model_update)\n\u001b[1;32m--> 175\u001b[0m     optimizer \u001b[39m=\u001b[39m AdditionalUpdatesOptimizer(optimizer, updates)\n\u001b[0;32m    177\u001b[0m \u001b[39mdef\u001b[39;00m \u001b[39mclipped_masked_error\u001b[39m(args):\n\u001b[0;32m    178\u001b[0m     y_true, y_pred, mask \u001b[39m=\u001b[39m args\n",
      "File \u001b[1;32mc:\\Users\\Alex\\AppData\\Local\\Programs\\Python\\Python39\\lib\\site-packages\\rl\\util.py:86\u001b[0m, in \u001b[0;36mAdditionalUpdatesOptimizer.__init__\u001b[1;34m(self, optimizer, additional_updates)\u001b[0m\n\u001b[0;32m     85\u001b[0m \u001b[39mdef\u001b[39;00m \u001b[39m__init__\u001b[39m(\u001b[39mself\u001b[39m, optimizer, additional_updates):\n\u001b[1;32m---> 86\u001b[0m     \u001b[39msuper\u001b[39m()\u001b[39m.\u001b[39m\u001b[39m__init__\u001b[39m(optimizer\u001b[39m.\u001b[39;49m_name)\n\u001b[0;32m     87\u001b[0m     \u001b[39mself\u001b[39m\u001b[39m.\u001b[39moptimizer \u001b[39m=\u001b[39m optimizer\n\u001b[0;32m     88\u001b[0m     \u001b[39mself\u001b[39m\u001b[39m.\u001b[39madditional_updates \u001b[39m=\u001b[39m additional_updates\n",
      "\u001b[1;31mAttributeError\u001b[0m: 'Adam' object has no attribute '_name'"
     ]
    }
   ],
   "source": [
    "dqn = build_agent(model, actions)\n",
    "dqn.compile(Adam(lr=1e-3), metrics=['mae'])\n",
    "dqn.fit(env, nb_steps=50000, visualize=False, verbose=1)"
   ]
  },
  {
   "cell_type": "code",
   "execution_count": null,
   "metadata": {},
   "outputs": [],
   "source": [
    "scores = dqn.test(env, nb_episodes=100, visualize=False)\n",
    "print(np.mean(scores.history['episode_reward']))"
   ]
  }
 ],
 "metadata": {
  "kernelspec": {
   "display_name": "Python 3",
   "language": "python",
   "name": "python3"
  },
  "language_info": {
   "codemirror_mode": {
    "name": "ipython",
    "version": 3
   },
   "file_extension": ".py",
   "mimetype": "text/x-python",
   "name": "python",
   "nbconvert_exporter": "python",
   "pygments_lexer": "ipython3",
   "version": "3.9.7"
  },
  "orig_nbformat": 4,
  "vscode": {
   "interpreter": {
    "hash": "ba4c651cdc5ec17c511bce19f294202fdc45305f9de1f927c569f32faa173ead"
   }
  }
 },
 "nbformat": 4,
 "nbformat_minor": 2
}
