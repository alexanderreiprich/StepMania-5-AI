{
 "cells": [
  {
   "cell_type": "code",
   "execution_count": null,
   "metadata": {},
   "outputs": [],
   "source": [
    "# %pip install tensorflow\n",
    "# %pip install gym\n",
    "# %pip install keras\n",
    "# %pip install keras-rl2\n",
    "# %pip3 install torch torchvision torchaudio --index-url https://download.pytorch.org/whl/cu117"
   ]
  },
  {
   "cell_type": "code",
   "execution_count": 1,
   "metadata": {},
   "outputs": [],
   "source": [
    "from gym import Env\n",
    "from gym.spaces import Discrete, Box\n",
    "from matplotlib import pyplot as plt\n",
    "from mss import mss\n",
    "import numpy as np \n",
    "import time\n",
    "import pydirectinput\n",
    "import pygetwindow\n",
    "import cv2\n",
    "import win32gui\n",
    "import pytesseract\n",
    "import gym as gym\n",
    "from image_analysis.take_screenshot import Screenshot\n",
    "from input_sending.input_sending import SendInput \n",
    "from text_recognition.text_recog import RecognizeText \n",
    "from pattern_recognition.pattern_recog import RecognizePattern "
   ]
  },
  {
   "cell_type": "code",
   "execution_count": 2,
   "metadata": {},
   "outputs": [],
   "source": [
    "class StepManiaEnv(Env):\n",
    "    \n",
    "    # Setup\n",
    "    def __init__(self):\n",
    "        super().__init__()\n",
    "        self.action_space = Discrete(5)\n",
    "\n",
    "        # Observation Array\n",
    "        self.observation_space = Box(\n",
    "            low=0, \n",
    "            high=255, \n",
    "            shape=(1, 135, 100), # does this work?\n",
    "            dtype=np.uint8\n",
    "        )\n",
    "        \n",
    "        # Define extraction parameters for the game\n",
    "        self.screenshot_helper = Screenshot()\n",
    "        self.text_recog_helper = RecognizeText()\n",
    "        self.input_sending_helper = SendInput()\n",
    "        self.capture = mss()\n",
    "        self.steps = 0\n",
    "        self.window_location = {'top': 35, 'left': 10, 'width': 410, 'height': 230}\n",
    "        self.game_location = {'top': 15, 'left': 20, 'width': 100, 'height': 185}\n",
    "        self.score_location = {'top': 215, 'left': 280, 'width': 100, 'height': 25}\n",
    "        self.done_location = {'top': 0, 'left': 0, 'width': 80, 'height':25}\n",
    "        self.cur_held_buttons = {'a': False, 'd': False, 'w': False, 's': False}\n",
    "        pytesseract.pytesseract.tesseract_cmd = r'G:\\Programme\\Tesseract\\tesseract.exe'\n",
    "        \n",
    "        win = pygetwindow.getWindowsWithTitle('StepMania')[0]\n",
    "        win.size = (450, 290)\n",
    "        win.moveTo(0, 0)\n",
    "\n",
    "    # What is called to do something in the game\n",
    "    def step(self, action):\n",
    "        \n",
    "        # Action dictionary\n",
    "        action_map = {\n",
    "            0:'no_op',\n",
    "            1:'a',\n",
    "            2:'d',\n",
    "            3:'w',\n",
    "            4:'s',\n",
    "        }\n",
    "        start = time.perf_counter()\n",
    "\n",
    "        # Manage and send input based on action parameter\n",
    "        if action != 0:\n",
    "            if (list(self.cur_held_buttons.values())[action - 1]):\n",
    "                self.cur_held_buttons[list(self.cur_held_buttons)[action - 1]] = False\n",
    "                self.input_sending_helper.releaseKey(action_map[action])\n",
    "            else:\n",
    "                self.cur_held_buttons[list(self.cur_held_buttons)[action - 1]] = True\n",
    "                self.input_sending_helper.holdKey(action_map[action])\n",
    "        \n",
    "\n",
    "        # Take screenshot for done, observation and reward functions\n",
    "        screenshot = np.array(self.capture.grab(self.window_location))[:,:,:-1].astype(np.uint8)\n",
    "        gray_screenshot = cv2.cvtColor(screenshot, cv2.COLOR_BGR2GRAY)\n",
    "        downscaled_screenshot = self.screenshot_helper.downscaleImage(screenshot, (225, 150), (1, 150, 225))\n",
    "        self.steps += 1\n",
    "\n",
    "        # Checking if the game is over\n",
    "        done = self.get_over(gray_screenshot)\n",
    "\n",
    "        # Get the next observation\n",
    "        new_observation = self.get_observation(downscaled_screenshot)\n",
    "        \n",
    "        # Use score as reward\n",
    "        reward = self.get_reward(gray_screenshot)\n",
    "        info = {}\n",
    "        stop = time.perf_counter()\n",
    "\n",
    "        return new_observation, reward, done, info\n",
    "\n",
    "    # Restart the game\n",
    "    def reset(self):\n",
    "        \n",
    "        # Exit to menu, select new song and start\n",
    "        time.sleep(5)\n",
    "        pydirectinput.press('enter')\n",
    "        time.sleep(5)\n",
    "        pydirectinput.press('d')\n",
    "        time.sleep(2)\n",
    "        pydirectinput.press('enter')\n",
    "\n",
    "        # Edge Case - 'Roulette' is selected\n",
    "        time.sleep(1.2)\n",
    "        pydirectinput.press('enter')\n",
    "        time.sleep(3)\n",
    "        pydirectinput.press('enter')\n",
    "\n",
    "        # Take screenshot to pass to observation\n",
    "        screenshot = np.array(self.capture.grab(self.window_location))[:,:,:-1].astype(np.uint8)\n",
    "        downscaled_screenshot = self.screenshot_helper.downscaleImage(screenshot, (225, 150), (1, 150, 225))\n",
    "        \n",
    "        return self.get_observation(downscaled_screenshot)\n",
    "\n",
    "    # Get the part of observation of the game that we want\n",
    "    def get_observation(self, img):\n",
    "\n",
    "        # Crop gameplay part of the window screenshot\n",
    "        obs = img[:, self.game_location['top']:(self.game_location['top'] + self.game_location['height']), self.game_location['left']:(self.game_location['left'] + self.game_location['width'])]\n",
    "\n",
    "        return obs\n",
    "\n",
    "    # Get the current score as a reward\n",
    "    def get_reward(self, img):\n",
    "\n",
    "        # Crop score part of the window screenshot\n",
    "        obs = img[self.score_location['top']:(self.score_location['top'] + self.score_location['height']), self.score_location['left']:(self.score_location['left'] + self.score_location['width'])]\n",
    "\n",
    "        return self.text_recog_helper.get_number_from_image(obs)\n",
    "\n",
    "    # Get if the game is over\n",
    "    def get_over(self, img):\n",
    "\n",
    "        # Crop done part of the window screenshot\n",
    "        obs = img[self.done_location['top']:(self.done_location['top'] + self.done_location['height']), self.done_location['left']:(self.done_location['left'] + self.done_location['width'])]\n",
    "        # Valid done text\n",
    "        done_strings = ['‘our Results', 'Your Results']\n",
    "\n",
    "        return self.text_recog_helper.is_text_in_image(obs, done_strings, 12)\n"
   ]
  },
  {
   "cell_type": "code",
   "execution_count": 3,
   "metadata": {},
   "outputs": [],
   "source": [
    "env = StepManiaEnv()"
   ]
  },
  {
   "cell_type": "code",
   "execution_count": null,
   "metadata": {},
   "outputs": [],
   "source": [
    "print('Environment started - Using random inputs')\n",
    "for episode in range(10):\n",
    "  done = False\n",
    "  final_reward = 0\n",
    "  start = time.perf_counter()\n",
    "  while not done:\n",
    "    obs, reward, done, info = env.step(env.action_space.sample())\n",
    "    final_reward = reward\n",
    "\n",
    "  stop = time.perf_counter()\n",
    "  final_time = stop - start\n",
    "  env.reset()\n",
    "  print(f'Total Reward for episode {episode} is {final_reward}')\n",
    "  print(f'Total screenshots for episode {episode} is {env.steps}')\n",
    "  print(f'Total duration of episode {episode} is {final_time:0.4f} seconds')\n",
    "  print(f'This equals an average of {env.steps / final_time} images per second')"
   ]
  },
  {
   "cell_type": "code",
   "execution_count": 3,
   "metadata": {},
   "outputs": [],
   "source": [
    "import os\n",
    "from stable_baselines3.common.callbacks import BaseCallback\n",
    "from stable_baselines3.common import env_checker"
   ]
  },
  {
   "cell_type": "code",
   "execution_count": null,
   "metadata": {},
   "outputs": [],
   "source": [
    "# Check if the environment is valid\n",
    "env_checker.check_env(env)"
   ]
  },
  {
   "cell_type": "code",
   "execution_count": 4,
   "metadata": {},
   "outputs": [],
   "source": [
    "class TrainAndLoggingCallback(BaseCallback):\n",
    "  def __init__(self, checking_freq, save_path, verbose=1):\n",
    "    super(TrainAndLoggingCallback, self).__init__(verbose)\n",
    "    self.checking_freq = checking_freq\n",
    "    self.save_path = save_path\n",
    "\n",
    "  def _init_callback(self):\n",
    "    if self.save_path is not None:\n",
    "      os.makedirs(self.save_path, exist_ok=True)\n",
    "\n",
    "  def _on_step(self):\n",
    "    if self.n_calls % self.checking_freq == 0:\n",
    "      model_path = os.path.join(self.save_path, f'best_model_{self.n_calls}')\n",
    "      self.model.save(model_path)\n",
    "    \n",
    "    return True"
   ]
  },
  {
   "cell_type": "code",
   "execution_count": 5,
   "metadata": {},
   "outputs": [],
   "source": [
    "CHECKPOINT_DIR = './training/'\n",
    "LOG_DIR = './logs/'"
   ]
  },
  {
   "cell_type": "code",
   "execution_count": 6,
   "metadata": {},
   "outputs": [],
   "source": [
    "callback = TrainAndLoggingCallback(checking_freq=1_000, save_path=CHECKPOINT_DIR)"
   ]
  },
  {
   "cell_type": "code",
   "execution_count": 7,
   "metadata": {},
   "outputs": [],
   "source": [
    "from stable_baselines3 import DQN\n",
    "from stable_baselines3.common.monitor import Monitor"
   ]
  },
  {
   "cell_type": "code",
   "execution_count": 8,
   "metadata": {},
   "outputs": [],
   "source": [
    "env = StepManiaEnv()"
   ]
  },
  {
   "cell_type": "code",
   "execution_count": 19,
   "metadata": {},
   "outputs": [],
   "source": [
    "env = gym.make(\"StepManiaEnv-v1\")\n",
    "env = Monitor(env, LOG_DIR)"
   ]
  },
  {
   "cell_type": "code",
   "execution_count": 9,
   "metadata": {},
   "outputs": [
    {
     "name": "stdout",
     "output_type": "stream",
     "text": [
      "Using cpu device\n",
      "Wrapping the env in a DummyVecEnv.\n"
     ]
    }
   ],
   "source": [
    "model = DQN(\n",
    "  'CnnPolicy',              \n",
    "  env,                      # Used environment\n",
    "  tensorboard_log=LOG_DIR,  # Log directory\n",
    "  verbose=1,                # Enables logging\n",
    "  buffer_size=120_000,      # Buffer size depending on amount of ram\n",
    "  learning_starts=1_000,    # Learning starts after 1000 steps\n",
    "  device='cpu'             # Training on cpu or gpu\n",
    ")"
   ]
  },
  {
   "cell_type": "code",
   "execution_count": 17,
   "metadata": {},
   "outputs": [
    {
     "name": "stdout",
     "output_type": "stream",
     "text": [
      "Logging to ./logs/DQN_13\n"
     ]
    },
    {
     "data": {
      "text/plain": [
       "<stable_baselines3.dqn.dqn.DQN at 0x23931407a00>"
      ]
     },
     "execution_count": 17,
     "metadata": {},
     "output_type": "execute_result"
    }
   ],
   "source": [
    "# Start training\n",
    "model.learn(total_timesteps=1_000, callback=callback)"
   ]
  },
  {
   "cell_type": "code",
   "execution_count": null,
   "metadata": {},
   "outputs": [],
   "source": [
    "# Load past model \n",
    "model.load(r'training\\best_model_1000')"
   ]
  },
  {
   "cell_type": "code",
   "execution_count": null,
   "metadata": {},
   "outputs": [],
   "source": [
    "print('Environment started - Using Model')\n",
    "for episode in range(10):\n",
    "  obs = env.reset()\n",
    "  done = False\n",
    "  final_reward = 0\n",
    "  start = time.perf_counter()\n",
    "  while not done:\n",
    "    action, _ = model.predict(obs)\n",
    "    obs, reward, done, info = env.step(int(action))\n",
    "    final_reward = reward\n",
    "\n",
    "  stop = time.perf_counter()\n",
    "  final_time = stop - start\n",
    "\n",
    "  print(f'Total Reward for episode {episode} is {final_reward}')\n",
    "  print(f'Total screenshots for episode {episode} is {env.steps}')\n",
    "  print(f'Total duration of episode {episode} is {final_time:0.4f} seconds')\n",
    "  print(f'This equals an average of {env.steps / final_time} images per second')"
   ]
  },
  {
   "cell_type": "code",
   "execution_count": 18,
   "metadata": {},
   "outputs": [
    {
     "data": {
      "image/png": "[encoded data removed]",
      "text/plain": [
       "<Figure size 800x200 with 1 Axes>"
      ]
     },
     "metadata": {},
     "output_type": "display_data"
    }
   ],
   "source": [
    "from stable_baselines3.common import results_plotter\n",
    "\n",
    "results_plotter.plot_results(\n",
    "  [LOG_DIR], 1e10, results_plotter.X_TIMESTEPS, \"StepManiaEnv\"\n",
    ")"
   ]
  }
 ],
 "metadata": {
  "kernelspec": {
   "display_name": "Python 3",
   "language": "python",
   "name": "python3"
  },
  "language_info": {
   "codemirror_mode": {
    "name": "ipython",
    "version": 3
   },
   "file_extension": ".py",
   "mimetype": "text/x-python",
   "name": "python",
   "nbconvert_exporter": "python",
   "pygments_lexer": "ipython3",
   "version": "3.9.7"
  },
  "orig_nbformat": 4
 },
 "nbformat": 4,
 "nbformat_minor": 2
}
