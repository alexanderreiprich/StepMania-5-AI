{
 "cells": [
  {
   "cell_type": "code",
   "execution_count": null,
   "metadata": {},
   "outputs": [],
   "source": [
    "# %pip install tensorflow\n",
    "# %pip install gym\n",
    "# %pip install keras\n",
    "# %pip install keras-rl2"
   ]
  },
  {
   "cell_type": "code",
   "execution_count": 1,
   "metadata": {},
   "outputs": [],
   "source": [
    "from gym import Env\n",
    "from gym.spaces import Discrete, Box\n",
    "from matplotlib import pyplot as plt\n",
    "import numpy as np \n",
    "import random\n",
    "import time\n",
    "import pydirectinput\n",
    "import pygetwindow\n",
    "import cv2\n",
    "import win32gui\n",
    "import pytesseract\n",
    "from image_analysis_test.take_screenshot import Screenshot\n",
    "from input_sending_test.input_sending import SendInput \n",
    "from number_recognition_test.number_recog import RecognizeText \n",
    "from pattern_recognition_test.pattern_recog import RecognizePattern "
   ]
  },
  {
   "cell_type": "code",
   "execution_count": 13,
   "metadata": {},
   "outputs": [],
   "source": [
    "class StepManiaEnv(Env):\n",
    "    # Setup\n",
    "    def __init__(self):\n",
    "        super().__init__()\n",
    "        self.action_space = Discrete(9)\n",
    "\n",
    "        # Observation Array\n",
    "        self.observation_space = Box(\n",
    "            low=0, high=255, shape=(1, 495, 290), dtype=np.uint8)\n",
    "\n",
    "        # Define extraction parameters for the game\n",
    "        self.screenshot_helper = Screenshot()\n",
    "        self.text_recog_helper = RecognizeText()\n",
    "        self.input_sending_helper = SendInput()\n",
    "        self.game_location = (110, 35, 400, 530)\n",
    "        self.combo_location = (590, 450, 735, 480)\n",
    "        self.done_location = (25, 40, 175, 70)\n",
    "        pytesseract.pytesseract.tesseract_cmd = r'G:\\Programme\\Tesseract\\tesseract.exe'\n",
    "\n",
    "    # What is called to do something in the game\n",
    "    def step(self, action):\n",
    "        # Apply action\n",
    "        action_map = {\n",
    "            0:'no_op',\n",
    "            1:'a',\n",
    "            2:'d',\n",
    "            3:'w',\n",
    "            4:'s',\n",
    "        }\n",
    "        # TODO: Does this work with held notes?\n",
    "        if action != 0:\n",
    "            pydirectinput.press(action_map[action])\n",
    "        \n",
    "        # Checking if the game is over\n",
    "        done = self.get_over()\n",
    "        # Get the next observation\n",
    "        new_observation = self.get_observation()\n",
    "        # Use score as reward\n",
    "        reward_img = env.screenshot_helper.screenshot(hwnd, bbox, )\n",
    "        reward = env.text_recog_helper.get_number_from_image(reward_img)\n",
    "        info = {}\n",
    "\n",
    "        return new_observation, reward, done, info\n",
    "\n",
    "    # Visualize the game (not that important)\n",
    "    def render(self):\n",
    "        # cv2.imshow('Game', self.get_observation())\n",
    "        # if cv2.waitKey(1) & 0xFF == ord('q')\n",
    "        #     self.close()\n",
    "        pass\n",
    "\n",
    "    # Restart the game\n",
    "    def reset(self):\n",
    "        time.sleep(5)\n",
    "        pydirectinput.press('enter')\n",
    "        time.sleep(2)\n",
    "        pydirectinput.press('d')\n",
    "        pydirectinput.press('enter')\n",
    "        return\n",
    "\n",
    "    # Closes the render (not that important)\n",
    "    def close(self):\n",
    "        pass\n",
    "\n",
    "    # Get the part of observation of the game that we want\n",
    "    def get_observation(self):\n",
    "        # Use Helper class to get screenshot\n",
    "        stepWindow = pygetwindow.getWindowsWithTitle('StepMania')\n",
    "        hwnd = stepWindow[0]._hWnd\n",
    "        bbox = win32gui.GetWindowRect(hwnd)\n",
    "\n",
    "        img = self.screenshot_helper.screenshot(hwnd, bbox, self.game_location)\n",
    "\n",
    "        channel = self.screenshot_helper.downscaleImage(img, (100, 170), (1, 170, 100))\n",
    "        # TODO: Why does this not return an image?\n",
    "        return channel\n",
    "\n",
    "    # Get if the game is over\n",
    "    def get_over(self):\n",
    "        # Use Helper class to get screenshot\n",
    "        stepWindow = pygetwindow.getWindowsWithTitle('StepMania')\n",
    "        hwnd = stepWindow[0]._hWnd\n",
    "        bbox = win32gui.GetWindowRect(hwnd)\n",
    "\n",
    "        done_capture = self.screenshot_helper.screenshot(hwnd, bbox, self.done_location)\n",
    "        # Valid done text\n",
    "        done_strings = ['Your Results']\n",
    "\n",
    "        return self.text_recog_helper.is_text_in_image(done_capture, done_strings, 12)\n"
   ]
  },
  {
   "cell_type": "code",
   "execution_count": 14,
   "metadata": {},
   "outputs": [],
   "source": [
    "env = StepManiaEnv()"
   ]
  },
  {
   "cell_type": "code",
   "execution_count": 9,
   "metadata": {},
   "outputs": [],
   "source": [
    "obs = env.get_observation()"
   ]
  },
  {
   "cell_type": "code",
   "execution_count": 15,
   "metadata": {},
   "outputs": [],
   "source": [
    "if env.get_over()[0] is True:\n",
    "  time.sleep(4)\n",
    "  env.reset()"
   ]
  },
  {
   "cell_type": "code",
   "execution_count": null,
   "metadata": {},
   "outputs": [],
   "source": [
    "plt.imshow(np.array(cv2.cvtColor(env.get_observation()[0], cv2.COLOR_BGR2RGB)))"
   ]
  }
 ],
 "metadata": {
  "kernelspec": {
   "display_name": "Python 3",
   "language": "python",
   "name": "python3"
  },
  "language_info": {
   "codemirror_mode": {
    "name": "ipython",
    "version": 3
   },
   "file_extension": ".py",
   "mimetype": "text/x-python",
   "name": "python",
   "nbconvert_exporter": "python",
   "pygments_lexer": "ipython3",
   "version": "3.9.7"
  },
  "orig_nbformat": 4
 },
 "nbformat": 4,
 "nbformat_minor": 2
}
